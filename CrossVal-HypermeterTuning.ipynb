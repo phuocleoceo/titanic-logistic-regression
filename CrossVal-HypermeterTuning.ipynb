{
 "cells": [
  {
   "cell_type": "code",
   "execution_count": 53,
   "metadata": {},
   "outputs": [],
   "source": [
    "from sklearn.model_selection import (cross_val_score, train_test_split, \n",
    "                                    RepeatedStratifiedKFold, GridSearchCV)\n",
    "from sklearn.linear_model import LogisticRegression\n",
    "from sklearn.metrics import accuracy_score\n",
    "from prettytable import PrettyTable\n",
    "import seaborn as sns\n",
    "import pandas as pd\n",
    "import numpy as np"
   ]
  },
  {
   "cell_type": "markdown",
   "metadata": {},
   "source": [
    "#### Đọc file"
   ]
  },
  {
   "cell_type": "code",
   "execution_count": 54,
   "metadata": {},
   "outputs": [
    {
     "data": {
      "text/html": [
       "<div>\n",
       "<style scoped>\n",
       "    .dataframe tbody tr th:only-of-type {\n",
       "        vertical-align: middle;\n",
       "    }\n",
       "\n",
       "    .dataframe tbody tr th {\n",
       "        vertical-align: top;\n",
       "    }\n",
       "\n",
       "    .dataframe thead th {\n",
       "        text-align: right;\n",
       "    }\n",
       "</style>\n",
       "<table border=\"1\" class=\"dataframe\">\n",
       "  <thead>\n",
       "    <tr style=\"text-align: right;\">\n",
       "      <th></th>\n",
       "      <th>PassengerId</th>\n",
       "      <th>Survived</th>\n",
       "      <th>Pclass</th>\n",
       "      <th>Name</th>\n",
       "      <th>Sex</th>\n",
       "      <th>Age</th>\n",
       "      <th>SibSp</th>\n",
       "      <th>Parch</th>\n",
       "      <th>Ticket</th>\n",
       "      <th>Fare</th>\n",
       "      <th>Cabin</th>\n",
       "      <th>Embarked</th>\n",
       "    </tr>\n",
       "  </thead>\n",
       "  <tbody>\n",
       "    <tr>\n",
       "      <th>0</th>\n",
       "      <td>1</td>\n",
       "      <td>0</td>\n",
       "      <td>3</td>\n",
       "      <td>Braund, Mr. Owen Harris</td>\n",
       "      <td>male</td>\n",
       "      <td>22.0</td>\n",
       "      <td>1</td>\n",
       "      <td>0</td>\n",
       "      <td>A/5 21171</td>\n",
       "      <td>7.2500</td>\n",
       "      <td>NaN</td>\n",
       "      <td>S</td>\n",
       "    </tr>\n",
       "    <tr>\n",
       "      <th>1</th>\n",
       "      <td>2</td>\n",
       "      <td>1</td>\n",
       "      <td>1</td>\n",
       "      <td>Cumings, Mrs. John Bradley (Florence Briggs Th...</td>\n",
       "      <td>female</td>\n",
       "      <td>38.0</td>\n",
       "      <td>1</td>\n",
       "      <td>0</td>\n",
       "      <td>PC 17599</td>\n",
       "      <td>71.2833</td>\n",
       "      <td>C85</td>\n",
       "      <td>C</td>\n",
       "    </tr>\n",
       "    <tr>\n",
       "      <th>2</th>\n",
       "      <td>3</td>\n",
       "      <td>1</td>\n",
       "      <td>3</td>\n",
       "      <td>Heikkinen, Miss. Laina</td>\n",
       "      <td>female</td>\n",
       "      <td>26.0</td>\n",
       "      <td>0</td>\n",
       "      <td>0</td>\n",
       "      <td>STON/O2. 3101282</td>\n",
       "      <td>7.9250</td>\n",
       "      <td>NaN</td>\n",
       "      <td>S</td>\n",
       "    </tr>\n",
       "    <tr>\n",
       "      <th>3</th>\n",
       "      <td>4</td>\n",
       "      <td>1</td>\n",
       "      <td>1</td>\n",
       "      <td>Futrelle, Mrs. Jacques Heath (Lily May Peel)</td>\n",
       "      <td>female</td>\n",
       "      <td>35.0</td>\n",
       "      <td>1</td>\n",
       "      <td>0</td>\n",
       "      <td>113803</td>\n",
       "      <td>53.1000</td>\n",
       "      <td>C123</td>\n",
       "      <td>S</td>\n",
       "    </tr>\n",
       "    <tr>\n",
       "      <th>4</th>\n",
       "      <td>5</td>\n",
       "      <td>0</td>\n",
       "      <td>3</td>\n",
       "      <td>Allen, Mr. William Henry</td>\n",
       "      <td>male</td>\n",
       "      <td>35.0</td>\n",
       "      <td>0</td>\n",
       "      <td>0</td>\n",
       "      <td>373450</td>\n",
       "      <td>8.0500</td>\n",
       "      <td>NaN</td>\n",
       "      <td>S</td>\n",
       "    </tr>\n",
       "  </tbody>\n",
       "</table>\n",
       "</div>"
      ],
      "text/plain": [
       "   PassengerId  Survived  Pclass  \\\n",
       "0            1         0       3   \n",
       "1            2         1       1   \n",
       "2            3         1       3   \n",
       "3            4         1       1   \n",
       "4            5         0       3   \n",
       "\n",
       "                                                Name     Sex   Age  SibSp  \\\n",
       "0                            Braund, Mr. Owen Harris    male  22.0      1   \n",
       "1  Cumings, Mrs. John Bradley (Florence Briggs Th...  female  38.0      1   \n",
       "2                             Heikkinen, Miss. Laina  female  26.0      0   \n",
       "3       Futrelle, Mrs. Jacques Heath (Lily May Peel)  female  35.0      1   \n",
       "4                           Allen, Mr. William Henry    male  35.0      0   \n",
       "\n",
       "   Parch            Ticket     Fare Cabin Embarked  \n",
       "0      0         A/5 21171   7.2500   NaN        S  \n",
       "1      0          PC 17599  71.2833   C85        C  \n",
       "2      0  STON/O2. 3101282   7.9250   NaN        S  \n",
       "3      0            113803  53.1000  C123        S  \n",
       "4      0            373450   8.0500   NaN        S  "
      ]
     },
     "execution_count": 54,
     "metadata": {},
     "output_type": "execute_result"
    }
   ],
   "source": [
    "df = pd.read_csv('titanic.csv')\n",
    "df.head()"
   ]
  },
  {
   "cell_type": "markdown",
   "metadata": {},
   "source": [
    "Cột Age có 177 giá trị bị trông, Fare không có giá trị bị trống"
   ]
  },
  {
   "cell_type": "code",
   "execution_count": 55,
   "metadata": {},
   "outputs": [
    {
     "data": {
      "text/plain": [
       "PassengerId      0\n",
       "Survived         0\n",
       "Pclass           0\n",
       "Name             0\n",
       "Sex              0\n",
       "Age            177\n",
       "SibSp            0\n",
       "Parch            0\n",
       "Ticket           0\n",
       "Fare             0\n",
       "Cabin          687\n",
       "Embarked         2\n",
       "dtype: int64"
      ]
     },
     "execution_count": 55,
     "metadata": {},
     "output_type": "execute_result"
    }
   ],
   "source": [
    "df.isnull().sum()"
   ]
  },
  {
   "cell_type": "markdown",
   "metadata": {},
   "source": [
    "#### Lặp Logistic Regression với random state của train_test_split thay đổi từ 0 đến 9 \n",
    "#### Lấy độ chính xác trung bình"
   ]
  },
  {
   "cell_type": "code",
   "execution_count": 56,
   "metadata": {},
   "outputs": [],
   "source": [
    "def use_logistic_reg(data, has_new_feature=False):\n",
    "    \"\"\"\n",
    "    Hàm áp dụng Logistic Regression cho bài toán Titanic\n",
    "    data : dataset\n",
    "    has_new_feature : có tạo thêm đặc trưng mới hay không\n",
    "    \"\"\"\n",
    "    acc = []\n",
    "    for i in range(0, 10):\n",
    "        # Nếu có tạo thêm đặc trưng thì sử dung thêm cột Age_NAN\n",
    "        if has_new_feature:\n",
    "            X_train, X_test, Y_train, Y_test = train_test_split(\n",
    "                data[['Age', 'Fare', 'Age_NAN']].fillna(0), data['Survived'],\n",
    "                test_size=0.3, random_state=i)\n",
    "        else:\n",
    "            X_train, X_test, Y_train, Y_test = train_test_split(\n",
    "                data[['Age', 'Fare']].fillna(0), data['Survived'],\n",
    "                test_size=0.3, random_state=i)\n",
    "        # Tạo bộ phân loại và huấn luyện\n",
    "        classifier = LogisticRegression()\n",
    "        classifier.fit(X_train, Y_train)\n",
    "        # Kết quả dự đoán\n",
    "        Y_pred = classifier.predict(X_test)\n",
    "        # Thêm vào mảng kết quả\n",
    "        acc.append(accuracy_score(Y_test, Y_pred))\n",
    "    # Lấy trung bình\n",
    "    return np.mean(acc)"
   ]
  },
  {
   "cell_type": "markdown",
   "metadata": {},
   "source": [
    "Không xử lý gì cả"
   ]
  },
  {
   "cell_type": "code",
   "execution_count": 57,
   "metadata": {},
   "outputs": [
    {
     "name": "stdout",
     "output_type": "stream",
     "text": [
      "65.6 (%)\n"
     ]
    }
   ],
   "source": [
    "print(f\"{round(use_logistic_reg(df) * 100, 1)} (%)\")"
   ]
  },
  {
   "cell_type": "markdown",
   "metadata": {},
   "source": [
    "Dùng median để thay thế dữ liệu trống"
   ]
  },
  {
   "cell_type": "code",
   "execution_count": 58,
   "metadata": {},
   "outputs": [],
   "source": [
    "def median_way(df):\n",
    "    data1 = df.copy()\n",
    "    median = data1['Age'].median()\n",
    "    data1['Age'] = data1['Age'].fillna(median)\n",
    "    return data1"
   ]
  },
  {
   "cell_type": "markdown",
   "metadata": {},
   "source": [
    "Dùng mean để thay thế dữ liệu trống"
   ]
  },
  {
   "cell_type": "code",
   "execution_count": 59,
   "metadata": {},
   "outputs": [],
   "source": [
    "def mean_way(df):\n",
    "    data2 = df.copy()\n",
    "    mean = data2['Age'].mean()\n",
    "    data2['Age'] = data2['Age'].fillna(mean)\n",
    "    return data2"
   ]
  },
  {
   "cell_type": "markdown",
   "metadata": {},
   "source": [
    "Dùng mode để thay thế dữ liệu trống"
   ]
  },
  {
   "cell_type": "code",
   "execution_count": 60,
   "metadata": {},
   "outputs": [],
   "source": [
    "def mode_way(df):\n",
    "    data3 = df.copy()\n",
    "    mode = data3['Age'].mode()[0]\n",
    "    data3['Age'] = data3['Age'].fillna(mode)\n",
    "    return data3"
   ]
  },
  {
   "cell_type": "markdown",
   "metadata": {},
   "source": [
    "Thay thế dữ liệu trống bằng giá trị ngẫu nhiên"
   ]
  },
  {
   "cell_type": "code",
   "execution_count": 61,
   "metadata": {},
   "outputs": [],
   "source": [
    "def random_way(df):\n",
    "    data4 = df.copy()\n",
    "    # Loại bỏ các giá trị trống của cột Age và lấy ra ngẫu nhiên K giá trị\n",
    "    # K là số lượng phần tử trống đã bị loại bỏ\n",
    "    random_samples = data4['Age'].dropna().sample(n=data4['Age'].isnull().sum(), random_state=0)\n",
    "    # Gán chỉ số của K giá trị ngẫu nhiên đó thành chỉ số K phân tử trống cột Age\n",
    "    random_samples.index = data4[data4['Age'].isnull()].index\n",
    "    # Thay thế K phần tử trống cột Age thành K giá trị ngẫu nhiên đã chọn\n",
    "    data4.loc[data4['Age'].isnull(), 'Age'] = random_samples\n",
    "    return data4"
   ]
  },
  {
   "cell_type": "markdown",
   "metadata": {},
   "source": [
    "Thay thế dữ liệu trống bằng giá trị đuôi phân bố"
   ]
  },
  {
   "cell_type": "code",
   "execution_count": 62,
   "metadata": {},
   "outputs": [],
   "source": [
    "def end_of_dist_way(df):\n",
    "    data5 = df.copy()\n",
    "    # Giá trị đuôi phân bố = mean + 3 * std\n",
    "    extreme = data5[\"Age\"].mean() + 3 * data5[\"Age\"].std()\n",
    "    data5[\"Age\"] = data5[\"Age\"].fillna(extreme)\n",
    "    return data5"
   ]
  },
  {
   "cell_type": "markdown",
   "metadata": {},
   "source": [
    "Thay thế dữ liệu trống bằng giá trị bất kì"
   ]
  },
  {
   "cell_type": "code",
   "execution_count": 63,
   "metadata": {},
   "outputs": [],
   "source": [
    "def arbitrary_way(df, ar_age):\n",
    "    data6 = df.copy()\n",
    "    data6[\"Age\"] = data6[\"Age\"].fillna(ar_age)\n",
    "    return data6"
   ]
  },
  {
   "cell_type": "markdown",
   "metadata": {},
   "source": [
    "Tạo đặc trưng mới"
   ]
  },
  {
   "cell_type": "code",
   "execution_count": 64,
   "metadata": {},
   "outputs": [],
   "source": [
    "def new_feature_way(df):\n",
    "    data7 = df.copy()\n",
    "    # Tạo cột Age_NAN\n",
    "    data7['Age_NAN'] = np.where(data7['Age'].isnull(), 1, 0)\n",
    "    # Thay thế dữ liệu trống cột Age thành giá trị median\n",
    "    data7[\"Age\"].fillna(data7[\"Age\"].median(), inplace=True)\n",
    "    return data7"
   ]
  },
  {
   "cell_type": "markdown",
   "metadata": {},
   "source": [
    "### Xử lý ngoại lệ"
   ]
  },
  {
   "cell_type": "code",
   "execution_count": 65,
   "metadata": {},
   "outputs": [
    {
     "name": "stdout",
     "output_type": "stream",
     "text": [
      "-13.880374349943303 73.27860964406094\n",
      "-61.358399999999996 100.2688\n"
     ]
    }
   ],
   "source": [
    "# Age có dạng phân bố chuẩn\n",
    "# Biên dưới : mean - 3 * std   ;   Biên trên : mean + 3 * std\n",
    "upper_boundary = df['Age'].mean() + 3* df['Age'].std()\n",
    "lower_boundary = df['Age'].mean() - 3* df['Age'].std()\n",
    "print(lower_boundary, upper_boundary)\n",
    "\n",
    "# Fare có dạng phân bố lệch\n",
    "# Biên dưới : 1st Quantile - 3 * IQR   ;   Biên trên : 3rd Quantile + 3 * IQR\n",
    "IQR = df[\"Fare\"].quantile(0.75) - df[\"Fare\"].quantile(0.25)\n",
    "lower_bridge = df['Fare'].quantile(0.25) - (IQR*3)\n",
    "upper_bridge = df['Fare'].quantile(0.75) + (IQR*3)\n",
    "print(lower_bridge, upper_bridge)"
   ]
  },
  {
   "cell_type": "markdown",
   "metadata": {},
   "source": [
    "Thay thế các giá trị tuổi lớn hơn biên trên bằng 73\n",
    "\n",
    "Thay thế các giá vé lớn hơn biên trên bằng 100\n"
   ]
  },
  {
   "cell_type": "code",
   "execution_count": 66,
   "metadata": {},
   "outputs": [],
   "source": [
    "df_not_outlier = df.copy()\n",
    "df_not_outlier.loc[df_not_outlier['Age'] >= 73, 'Age'] = 73\n",
    "df_not_outlier.loc[df_not_outlier['Fare'] >= 100, 'Fare'] = 100"
   ]
  },
  {
   "cell_type": "markdown",
   "metadata": {},
   "source": [
    "### Áp dụng để thu được 14 loại dữ liệu"
   ]
  },
  {
   "cell_type": "code",
   "execution_count": 67,
   "metadata": {},
   "outputs": [],
   "source": [
    "# Có Outlier\n",
    "data_median = median_way(df)\n",
    "data_mean = mean_way(df)\n",
    "data_mode = mode_way(df)\n",
    "data_random = random_way(df)\n",
    "data_endofdist = end_of_dist_way(df)\n",
    "data_arbitrary = arbitrary_way(df, ar_age=27)\n",
    "data_newfeature = new_feature_way(df)\n",
    "# Không có Outlier\n",
    "data_median_outlier = median_way(df_not_outlier)\n",
    "data_mean_outlier = mean_way(df_not_outlier)\n",
    "data_mode_outlier = mode_way(df_not_outlier)\n",
    "data_random_outlier = random_way(df_not_outlier)\n",
    "data_endofdist_outlier = end_of_dist_way(df_not_outlier)\n",
    "data_arbitrary_outlier = arbitrary_way(df_not_outlier, ar_age=27)\n",
    "data_newfeature_outlier = new_feature_way(df_not_outlier)"
   ]
  },
  {
   "cell_type": "markdown",
   "metadata": {},
   "source": [
    "### Thống kê độ chính xác 14 cách"
   ]
  },
  {
   "cell_type": "code",
   "execution_count": 68,
   "metadata": {},
   "outputs": [
    {
     "name": "stdout",
     "output_type": "stream",
     "text": [
      ">> Đơn vị độ chính xác : %\n",
      "+-----------------+--------+------+------+--------+-------------+-----------+-------------+\n",
      "|       TYPE      | Median | Mean | Mode | Random | End of Dist | Arbitrary | New feature |\n",
      "+-----------------+--------+------+------+--------+-------------+-----------+-------------+\n",
      "|      ORIGIN     |  65.3  | 65.3 | 65.3 |  65.4  |     66.4    |    65.4   |     65.3    |\n",
      "| OUTLIER-PROCESS |  66.7  | 66.7 | 66.6 |  66.8  |     66.7    |    66.6   |     66.7    |\n",
      "+-----------------+--------+------+------+--------+-------------+-----------+-------------+\n"
     ]
    }
   ],
   "source": [
    "def acc(data):\n",
    "    # Làm tròn\n",
    "    return round(use_logistic_reg(data) * 100, 1)\n",
    "\n",
    "\n",
    "table = PrettyTable([\"TYPE\",\"Median\",\"Mean\",\"Mode\",\"Random\",\n",
    "                    \"End of Dist\",\"Arbitrary\",\"New feature\"])\n",
    "\n",
    "table.add_row([\"ORIGIN\", acc(data_median), acc(data_mean), acc(data_mode), acc(data_random), \n",
    "                acc(data_endofdist), acc(data_arbitrary), acc(data_newfeature)])\n",
    "\n",
    "table.add_row([\"OUTLIER-PROCESS\", acc(data_median_outlier), acc(data_mean_outlier),\n",
    "                acc(data_mode_outlier), acc(data_random_outlier), acc(data_endofdist_outlier),\n",
    "                acc(data_arbitrary_outlier), acc(data_newfeature_outlier)])\n",
    "\n",
    "print(\">> Đơn vị độ chính xác : %\")\n",
    "print(table)"
   ]
  },
  {
   "cell_type": "markdown",
   "metadata": {},
   "source": [
    "Độ chính xác thấp nhất là 65.3 (%) khi không xử lý ngoại lệ với các phương pháp Median, Mean, Mode, NewFeature.\n",
    "Do 3 phương pháp Median, Mean, Mode và NewFeature(thay dữ liệu cột trống bằng Median) làm thay đổi phương sai của dữ liệu.\n",
    "\n",
    "Độ chính xác cao nhất là 66.8 (%) khi xử lý ngoại lệ và áp dụng phương pháp Random.\n",
    "Trong bài toán này thì phương pháp Random hoạt động tốt do nó làm phương sai của dữ liệu ít bị biến đổi."
   ]
  },
  {
   "cell_type": "markdown",
   "metadata": {},
   "source": [
    "### Áp dụng chuẩn hóa (không chuẩn hóa cột Survived)"
   ]
  },
  {
   "cell_type": "markdown",
   "metadata": {},
   "source": [
    "Chuẩn hóa z-score"
   ]
  },
  {
   "cell_type": "code",
   "execution_count": 69,
   "metadata": {},
   "outputs": [],
   "source": [
    "from sklearn.preprocessing import StandardScaler\n",
    "\n",
    "def zscore_norm(data):\n",
    "    scaler = StandardScaler()\n",
    "    df_zscore = data[['Age', 'Fare']].copy()\n",
    "    df_zscore = pd.DataFrame(scaler.fit_transform(df_zscore), columns=df_zscore.columns)\n",
    "    df_zscore['Survived'] = data['Survived']\n",
    "    return df_zscore"
   ]
  },
  {
   "cell_type": "markdown",
   "metadata": {},
   "source": [
    "Chuẩn hóa min-max"
   ]
  },
  {
   "cell_type": "code",
   "execution_count": 70,
   "metadata": {},
   "outputs": [],
   "source": [
    "from sklearn.preprocessing import MinMaxScaler\n",
    "\n",
    "def minmax_norm(data):\n",
    "    min_max = MinMaxScaler()\n",
    "    df_minmax = data[['Age', 'Fare']].copy()\n",
    "    df_minmax = pd.DataFrame(min_max.fit_transform(df_minmax), columns=df_minmax.columns)\n",
    "    df_minmax['Survived'] = data['Survived']\n",
    "    return df_minmax"
   ]
  },
  {
   "cell_type": "markdown",
   "metadata": {},
   "source": [
    "Chuẩn hóa mạnh với ngoại lệ"
   ]
  },
  {
   "cell_type": "code",
   "execution_count": 71,
   "metadata": {},
   "outputs": [],
   "source": [
    "from sklearn.preprocessing import RobustScaler\n",
    "\n",
    "def robust_norm(data):\n",
    "    scaler = RobustScaler()\n",
    "    df_robust = data[['Age', 'Fare']].copy()\n",
    "    df_robust = pd.DataFrame(scaler.fit_transform(df_robust), columns=df_robust.columns)\n",
    "    df_robust['Survived'] = data['Survived']\n",
    "    return df_robust"
   ]
  },
  {
   "cell_type": "markdown",
   "metadata": {},
   "source": [
    "### Thống kê độ chính xác khi áp dụng chuẩn hóa cho 1 trong 14 tổ hợp làm sạch dữ liệu"
   ]
  },
  {
   "cell_type": "markdown",
   "metadata": {},
   "source": [
    "Áp dụng chuẩn hóa cho tổ hợp có xử lý outlier và xử lý dữ liệu trống bằng phương pháp Random"
   ]
  },
  {
   "cell_type": "code",
   "execution_count": 72,
   "metadata": {},
   "outputs": [],
   "source": [
    "data_random_outlier_zscore = zscore_norm(data_random_outlier)\n",
    "data_random_outlier_minmax = minmax_norm(data_random_outlier)\n",
    "data_random_outlier_robust = robust_norm(data_random_outlier)"
   ]
  },
  {
   "cell_type": "code",
   "execution_count": 73,
   "metadata": {},
   "outputs": [
    {
     "name": "stdout",
     "output_type": "stream",
     "text": [
      ">> Đơn vị độ chính xác : %\n",
      "+---------+--------+\n",
      "|   TYPE  | Random |\n",
      "+---------+--------+\n",
      "| z-score |  66.8  |\n",
      "| min-max |  66.9  |\n",
      "|  robust |  66.8  |\n",
      "+---------+--------+\n"
     ]
    }
   ],
   "source": [
    "table = PrettyTable([\"TYPE\",\"Random\"])\n",
    "table.add_row([\"z-score\", acc(data_random_outlier_zscore)])\n",
    "table.add_row([\"min-max\", acc(data_random_outlier_minmax)])\n",
    "table.add_row([\"robust\", acc(data_random_outlier_robust)])\n",
    "\n",
    "print(\">> Đơn vị độ chính xác : %\")\n",
    "print(table)"
   ]
  },
  {
   "cell_type": "markdown",
   "metadata": {},
   "source": [
    "Áp dụng chuẩn hóa Min-Max cho tổ hợp có xử lý outlier và xử lý dữ liệu trống\\\n",
    "bằng phương pháp Random giúp tăng độ chính xác từ 66,8 (%) lên 66,9 (%)"
   ]
  },
  {
   "cell_type": "markdown",
   "metadata": {},
   "source": [
    "# Sử dụng Cross-Validation"
   ]
  },
  {
   "cell_type": "code",
   "execution_count": 74,
   "metadata": {},
   "outputs": [],
   "source": [
    "def use_logistic_cross_val(data, has_new_feature=False):\n",
    "    \"\"\"\n",
    "    Hàm áp dụng Logistic Regression cho bài toán Titanic\n",
    "    Chia dữ liệu bằng Cross Validation\n",
    "    data : dataset\n",
    "    has_new_feature : có tạo thêm đặc trưng mới hay không\n",
    "    \"\"\"\n",
    "    lr = LogisticRegression()\n",
    "    # Nếu có tạo thêm đặc trưng thì sử dung thêm cột Age_NAN\n",
    "    if has_new_feature:\n",
    "        X = data[['Age', 'Fare', 'Age_NAN']].fillna(0)\n",
    "    else:\n",
    "        X = data[['Age', 'Fare']].fillna(0)\n",
    "    Y = data['Survived']\n",
    "    # Thực hiện Cross-Validation\n",
    "    scores = cross_val_score(lr, X, Y)\n",
    "    # Lấy trung bình độ chính xác 5 folds\n",
    "    return np.mean(scores)"
   ]
  },
  {
   "cell_type": "markdown",
   "metadata": {},
   "source": [
    "Áp dụng Cross-Validation cho 14 tổ hợp làm sạch"
   ]
  },
  {
   "cell_type": "code",
   "execution_count": 75,
   "metadata": {},
   "outputs": [
    {
     "name": "stdout",
     "output_type": "stream",
     "text": [
      ">> Đơn vị độ chính xác : %\n",
      "+-----------------+--------+------+------+--------+-------------+-----------+-------------+\n",
      "|       TYPE      | Median | Mean | Mode | Random | End of Dist | Arbitrary | New feature |\n",
      "+-----------------+--------+------+------+--------+-------------+-----------+-------------+\n",
      "|      ORIGIN     |  66.0  | 65.9 | 66.2 |  66.9  |     66.8    |    66.1   |     66.0    |\n",
      "| OUTLIER-PROCESS |  67.2  | 67.2 | 67.5 |  67.1  |     67.0    |    67.0   |     67.2    |\n",
      "+-----------------+--------+------+------+--------+-------------+-----------+-------------+\n"
     ]
    }
   ],
   "source": [
    "def acc(data):\n",
    "    # Làm tròn\n",
    "    return round(use_logistic_cross_val(data) * 100, 1)\n",
    "\n",
    "\n",
    "table = PrettyTable([\"TYPE\", \"Median\", \"Mean\", \"Mode\", \"Random\",\n",
    "                    \"End of Dist\", \"Arbitrary\", \"New feature\"])\n",
    "\n",
    "table.add_row([\"ORIGIN\", acc(data_median), acc(data_mean), acc(data_mode), acc(data_random),\n",
    "               acc(data_endofdist), acc(data_arbitrary), acc(data_newfeature)])\n",
    "\n",
    "table.add_row([\"OUTLIER-PROCESS\", acc(data_median_outlier), acc(data_mean_outlier),\n",
    "               acc(data_mode_outlier), acc(data_random_outlier), acc(data_endofdist_outlier),\n",
    "               acc(data_arbitrary_outlier), acc(data_newfeature_outlier)])\n",
    "\n",
    "print(\">> Đơn vị độ chính xác : %\")\n",
    "print(table)"
   ]
  },
  {
   "cell_type": "markdown",
   "metadata": {},
   "source": [
    "Độ chính xác cao nhất 67,5 (%) thuộc về trường hợp xử lý trống bằng Mode và có xử lý ngoại lệ"
   ]
  },
  {
   "cell_type": "code",
   "execution_count": 76,
   "metadata": {},
   "outputs": [
    {
     "name": "stdout",
     "output_type": "stream",
     "text": [
      ">> Đơn vị độ chính xác : %\n",
      "+---------+------+\n",
      "|   TYPE  | Mode |\n",
      "+---------+------+\n",
      "| z-score | 67.5 |\n",
      "| min-max | 67.5 |\n",
      "|  robust | 67.5 |\n",
      "+---------+------+\n"
     ]
    }
   ],
   "source": [
    "data_mode_outlier_zscore = zscore_norm(data_mode_outlier)\n",
    "data_mode_outlier_minmax = minmax_norm(data_mode_outlier)\n",
    "data_mode_outlier_robust = robust_norm(data_mode_outlier)\n",
    "\n",
    "table = PrettyTable([\"TYPE\", \"Mode\"])\n",
    "table.add_row([\"z-score\", acc(data_mode_outlier_zscore)])\n",
    "table.add_row([\"min-max\", acc(data_mode_outlier_minmax)])\n",
    "table.add_row([\"robust\", acc(data_mode_outlier_robust)])\n",
    "\n",
    "print(\">> Đơn vị độ chính xác : %\")\n",
    "print(table)"
   ]
  },
  {
   "cell_type": "markdown",
   "metadata": {},
   "source": [
    "Ta thấy độ chính xác không tăng lên khi ta áp dụng thêm chuẩn hóa"
   ]
  },
  {
   "cell_type": "markdown",
   "metadata": {},
   "source": [
    "# Hyperparameter Tuning"
   ]
  },
  {
   "cell_type": "code",
   "execution_count": 79,
   "metadata": {},
   "outputs": [],
   "source": [
    "from sklearn.utils._testing import ignore_warnings\n",
    "from sklearn.exceptions import ConvergenceWarning\n",
    "\n",
    "\n",
    "@ignore_warnings(category=ConvergenceWarning)\n",
    "def logistic_hyper_tuning(data, has_new_feature=False):\n",
    "    # Nếu có tạo thêm đặc trưng thì sử dung thêm cột Age_NAN\n",
    "    if has_new_feature:\n",
    "        X = data[['Age', 'Fare', 'Age_NAN']].fillna(0)\n",
    "    else:\n",
    "        X = data[['Age', 'Fare']].fillna(0)\n",
    "    Y = data['Survived']\n",
    "\n",
    "    lr = LogisticRegression()\n",
    "    # solver = [\"newton-cg\", \"lbfgs\", \"liblinear\", \"sag\", \"saga\"]\n",
    "    # penalty = [\"l1\", \"l2\", \"elasticnet\", \"none\"]\n",
    "    solver = ['newton-cg', 'lbfgs', 'liblinear']\n",
    "    penalty = ['l2']\n",
    "    c_values = [100, 10, 1.0, 0.1, 0.01]\n",
    "    # Gộp 3 siêu tham số dành 1 dict\n",
    "    grid = dict(solver=solver, penalty=penalty, C=c_values)\n",
    "    # Tạo 5-folds cross-val, lặp lại 3 lần\n",
    "    cv = RepeatedStratifiedKFold(n_splits=5, n_repeats=3, random_state=1)\n",
    "    # cv = 5\n",
    "    \"\"\"\n",
    "    Tạo Grid Search với các tham số : \n",
    "    estimator : thuật toán đánh giá\n",
    "    param_grid : danh sách các siêu tham số dùng đánh giá mô hình\n",
    "    n_jobs : dùng -1 để dùng toàn bộ nhân xử lý của Máy tính cho tác vụ này\n",
    "    cv : Số lượng Fold trong Cross-Validation\n",
    "    scoring : tiêu chí đánh giá\n",
    "    error_score : kết quả trả về khi áp dụng 1 phương pháp mà xảy ra lỗi\n",
    "    \"\"\"\n",
    "    grid = GridSearchCV(estimator=lr, param_grid=grid, n_jobs=-1, cv=cv, scoring='accuracy', error_score=0)\n",
    "    result = grid.fit(X, Y)\n",
    "    \n",
    "    # Kết quả Tuning tốt nhất\n",
    "    print(f\">> Best: {result.best_score_} using {result.best_params_}\")\n",
    "    # In ra kết quả toàn bộ các phương pháp dùng Tuning\n",
    "    means = result.cv_results_[\"mean_test_score\"]\n",
    "    stds = result.cv_results_[\"std_test_score\"]\n",
    "    params = result.cv_results_[\"params\"]\n",
    "    for mean, std, param in zip(means, stds, params):\n",
    "        print(f\"{mean} ({std}) with: {param}\")"
   ]
  },
  {
   "cell_type": "code",
   "execution_count": 80,
   "metadata": {},
   "outputs": [
    {
     "name": "stdout",
     "output_type": "stream",
     "text": [
      ">> Best: 0.6749042746845771 using {'C': 0.01, 'penalty': 'l2', 'solver': 'liblinear'}\n",
      "0.6704057079488629 (0.018825028685470636) with: {'C': 100, 'penalty': 'l2', 'solver': 'newton-cg'}\n",
      "0.6704057079488629 (0.018825028685470636) with: {'C': 100, 'penalty': 'l2', 'solver': 'lbfgs'}\n",
      "0.6704057079488629 (0.018825028685470636) with: {'C': 100, 'penalty': 'l2', 'solver': 'liblinear'}\n",
      "0.6704057079488629 (0.018825028685470636) with: {'C': 10, 'penalty': 'l2', 'solver': 'newton-cg'}\n",
      "0.6704057079488629 (0.018825028685470636) with: {'C': 10, 'penalty': 'l2', 'solver': 'lbfgs'}\n",
      "0.6707802397840689 (0.019062107675991157) with: {'C': 10, 'penalty': 'l2', 'solver': 'liblinear'}\n",
      "0.6704057079488629 (0.018825028685470636) with: {'C': 1.0, 'penalty': 'l2', 'solver': 'newton-cg'}\n",
      "0.6704057079488629 (0.018825028685470636) with: {'C': 1.0, 'penalty': 'l2', 'solver': 'lbfgs'}\n",
      "0.6722762747682717 (0.01920233360784033) with: {'C': 1.0, 'penalty': 'l2', 'solver': 'liblinear'}\n",
      "0.6704057079488629 (0.018825028685470636) with: {'C': 0.1, 'penalty': 'l2', 'solver': 'newton-cg'}\n",
      "0.6704057079488629 (0.018825028685470636) with: {'C': 0.1, 'penalty': 'l2', 'solver': 'lbfgs'}\n",
      "0.6700437302533845 (0.023414697552106716) with: {'C': 0.1, 'penalty': 'l2', 'solver': 'liblinear'}\n",
      "0.6704057079488629 (0.018825028685470636) with: {'C': 0.01, 'penalty': 'l2', 'solver': 'newton-cg'}\n",
      "0.6704057079488629 (0.018825028685470636) with: {'C': 0.01, 'penalty': 'l2', 'solver': 'lbfgs'}\n",
      "0.6749042746845771 (0.021532845065710113) with: {'C': 0.01, 'penalty': 'l2', 'solver': 'liblinear'}\n"
     ]
    }
   ],
   "source": [
    "logistic_hyper_tuning(data_mode_outlier)"
   ]
  }
 ],
 "metadata": {
  "interpreter": {
   "hash": "aee8b7b246df8f9039afb4144a1f6fd8d2ca17a180786b69acc140d282b71a49"
  },
  "kernelspec": {
   "display_name": "Python 3.7.4 64-bit ('base': conda)",
   "language": "python",
   "name": "python3"
  },
  "language_info": {
   "codemirror_mode": {
    "name": "ipython",
    "version": 3
   },
   "file_extension": ".py",
   "mimetype": "text/x-python",
   "name": "python",
   "nbconvert_exporter": "python",
   "pygments_lexer": "ipython3",
   "version": "3.9.7"
  }
 },
 "nbformat": 4,
 "nbformat_minor": 4
}
